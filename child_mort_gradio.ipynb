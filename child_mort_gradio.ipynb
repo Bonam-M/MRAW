{
 "cells": [
  {
   "cell_type": "markdown",
   "id": "bc17e59d",
   "metadata": {},
   "source": [
    "### About\n",
    "This is a short Notebook containing a script to interact with the model via Gradio user interface.\n",
    "The model predicts the children (under 5) mortality rate for a country given the percentage of peaople that have access to drinking water. The model was trained using WHO data from all countries from 2000 to 2020\n",
    "[Learn more about WHO datasets](https://apps.who.int/gho/data/node.main.CHILDMORTUNDER5?lang=en) and how the rates are calculated."
   ]
  },
  {
   "cell_type": "code",
   "execution_count": 1,
   "id": "41db069f",
   "metadata": {},
   "outputs": [
    {
     "name": "stdout",
     "output_type": "stream",
     "text": [
      "Requirement already satisfied: gradio in c:\\users\\esspe\\.conda\\envs\\testenv\\lib\\site-packages (3.35.2)\n",
      "Requirement already satisfied: gradio-client>=0.2.7 in c:\\users\\esspe\\.conda\\envs\\testenv\\lib\\site-packages (from gradio) (0.2.7)\n",
      "Requirement already satisfied: pygments>=2.12.0 in c:\\users\\esspe\\.conda\\envs\\testenv\\lib\\site-packages (from gradio) (2.15.1)\n",
      "Requirement already satisfied: pyyaml in c:\\users\\esspe\\.conda\\envs\\testenv\\lib\\site-packages (from gradio) (6.0)\n",
      "Requirement already satisfied: orjson in c:\\users\\esspe\\.conda\\envs\\testenv\\lib\\site-packages (from gradio) (3.9.1)\n",
      "Requirement already satisfied: numpy in c:\\users\\esspe\\.conda\\envs\\testenv\\lib\\site-packages (from gradio) (1.24.3)\n",
      "Requirement already satisfied: mdit-py-plugins<=0.3.3 in c:\\users\\esspe\\.conda\\envs\\testenv\\lib\\site-packages (from gradio) (0.3.3)\n",
      "Requirement already satisfied: pydantic in c:\\users\\esspe\\.conda\\envs\\testenv\\lib\\site-packages (from gradio) (1.10.9)\n",
      "Requirement already satisfied: huggingface-hub>=0.14.0 in c:\\users\\esspe\\.conda\\envs\\testenv\\lib\\site-packages (from gradio) (0.15.1)\n",
      "Requirement already satisfied: websockets>=10.0 in c:\\users\\esspe\\.conda\\envs\\testenv\\lib\\site-packages (from gradio) (11.0.3)\n",
      "Requirement already satisfied: pydub in c:\\users\\esspe\\.conda\\envs\\testenv\\lib\\site-packages (from gradio) (0.25.1)\n",
      "Requirement already satisfied: python-multipart in c:\\users\\esspe\\.conda\\envs\\testenv\\lib\\site-packages (from gradio) (0.0.6)\n",
      "Requirement already satisfied: matplotlib in c:\\users\\esspe\\.conda\\envs\\testenv\\lib\\site-packages (from gradio) (3.7.1)\n",
      "Requirement already satisfied: altair>=4.2.0 in c:\\users\\esspe\\.conda\\envs\\testenv\\lib\\site-packages (from gradio) (5.0.1)\n",
      "Requirement already satisfied: aiofiles in c:\\users\\esspe\\.conda\\envs\\testenv\\lib\\site-packages (from gradio) (23.1.0)\n",
      "Requirement already satisfied: uvicorn>=0.14.0 in c:\\users\\esspe\\.conda\\envs\\testenv\\lib\\site-packages (from gradio) (0.22.0)\n",
      "Requirement already satisfied: fastapi in c:\\users\\esspe\\.conda\\envs\\testenv\\lib\\site-packages (from gradio) (0.98.0)\n",
      "Requirement already satisfied: markupsafe in c:\\users\\esspe\\.conda\\envs\\testenv\\lib\\site-packages (from gradio) (2.1.1)\n",
      "Requirement already satisfied: aiohttp in c:\\users\\esspe\\.conda\\envs\\testenv\\lib\\site-packages (from gradio) (3.8.3)\n",
      "Requirement already satisfied: pillow in c:\\users\\esspe\\.conda\\envs\\testenv\\lib\\site-packages (from gradio) (9.4.0)\n",
      "Requirement already satisfied: semantic-version in c:\\users\\esspe\\.conda\\envs\\testenv\\lib\\site-packages (from gradio) (2.10.0)\n",
      "Requirement already satisfied: jinja2 in c:\\users\\esspe\\.conda\\envs\\testenv\\lib\\site-packages (from gradio) (3.1.2)\n",
      "Requirement already satisfied: pandas in c:\\users\\esspe\\.conda\\envs\\testenv\\lib\\site-packages (from gradio) (1.5.3)\n",
      "Requirement already satisfied: requests in c:\\users\\esspe\\.conda\\envs\\testenv\\lib\\site-packages (from gradio) (2.29.0)\n",
      "Requirement already satisfied: httpx in c:\\users\\esspe\\.conda\\envs\\testenv\\lib\\site-packages (from gradio) (0.24.1)\n",
      "Requirement already satisfied: markdown-it-py[linkify]>=2.0.0 in c:\\users\\esspe\\.conda\\envs\\testenv\\lib\\site-packages (from gradio) (2.2.0)\n",
      "Requirement already satisfied: ffmpy in c:\\users\\esspe\\.conda\\envs\\testenv\\lib\\site-packages (from gradio) (0.3.0)\n",
      "Requirement already satisfied: typing-extensions>=4.0.1 in c:\\users\\esspe\\.conda\\envs\\testenv\\lib\\site-packages (from altair>=4.2.0->gradio) (4.5.0)\n",
      "Requirement already satisfied: toolz in c:\\users\\esspe\\.conda\\envs\\testenv\\lib\\site-packages (from altair>=4.2.0->gradio) (0.12.0)\n",
      "Requirement already satisfied: jsonschema>=3.0 in c:\\users\\esspe\\.conda\\envs\\testenv\\lib\\site-packages (from altair>=4.2.0->gradio) (4.17.3)\n",
      "Requirement already satisfied: packaging in c:\\users\\esspe\\.conda\\envs\\testenv\\lib\\site-packages (from gradio-client>=0.2.7->gradio) (23.0)\n",
      "Requirement already satisfied: fsspec in c:\\users\\esspe\\.conda\\envs\\testenv\\lib\\site-packages (from gradio-client>=0.2.7->gradio) (2023.6.0)\n",
      "Requirement already satisfied: tqdm>=4.42.1 in c:\\users\\esspe\\.conda\\envs\\testenv\\lib\\site-packages (from huggingface-hub>=0.14.0->gradio) (4.65.0)\n",
      "Requirement already satisfied: filelock in c:\\users\\esspe\\.conda\\envs\\testenv\\lib\\site-packages (from huggingface-hub>=0.14.0->gradio) (3.12.2)\n",
      "Requirement already satisfied: mdurl~=0.1 in c:\\users\\esspe\\.conda\\envs\\testenv\\lib\\site-packages (from markdown-it-py[linkify]>=2.0.0->gradio) (0.1.2)\n",
      "Requirement already satisfied: linkify-it-py<3,>=1 in c:\\users\\esspe\\.conda\\envs\\testenv\\lib\\site-packages (from markdown-it-py[linkify]>=2.0.0->gradio) (2.0.2)\n",
      "Requirement already satisfied: python-dateutil>=2.8.1 in c:\\users\\esspe\\.conda\\envs\\testenv\\lib\\site-packages (from pandas->gradio) (2.8.2)\n",
      "Requirement already satisfied: pytz>=2020.1 in c:\\users\\esspe\\.conda\\envs\\testenv\\lib\\site-packages (from pandas->gradio) (2022.7)\n",
      "Requirement already satisfied: click>=7.0 in c:\\users\\esspe\\.conda\\envs\\testenv\\lib\\site-packages (from uvicorn>=0.14.0->gradio) (8.0.4)\n",
      "Requirement already satisfied: h11>=0.8 in c:\\users\\esspe\\.conda\\envs\\testenv\\lib\\site-packages (from uvicorn>=0.14.0->gradio) (0.14.0)\n",
      "Requirement already satisfied: attrs>=17.3.0 in c:\\users\\esspe\\.conda\\envs\\testenv\\lib\\site-packages (from aiohttp->gradio) (22.1.0)\n",
      "Requirement already satisfied: aiosignal>=1.1.2 in c:\\users\\esspe\\.conda\\envs\\testenv\\lib\\site-packages (from aiohttp->gradio) (1.2.0)\n",
      "Requirement already satisfied: multidict<7.0,>=4.5 in c:\\users\\esspe\\.conda\\envs\\testenv\\lib\\site-packages (from aiohttp->gradio) (6.0.2)\n",
      "Requirement already satisfied: charset-normalizer<3.0,>=2.0 in c:\\users\\esspe\\.conda\\envs\\testenv\\lib\\site-packages (from aiohttp->gradio) (2.0.4)\n",
      "Requirement already satisfied: frozenlist>=1.1.1 in c:\\users\\esspe\\.conda\\envs\\testenv\\lib\\site-packages (from aiohttp->gradio) (1.3.3)\n",
      "Requirement already satisfied: async-timeout<5.0,>=4.0.0a3 in c:\\users\\esspe\\.conda\\envs\\testenv\\lib\\site-packages (from aiohttp->gradio) (4.0.2)\n",
      "Requirement already satisfied: yarl<2.0,>=1.0 in c:\\users\\esspe\\.conda\\envs\\testenv\\lib\\site-packages (from aiohttp->gradio) (1.8.1)\n",
      "Requirement already satisfied: starlette<0.28.0,>=0.27.0 in c:\\users\\esspe\\.conda\\envs\\testenv\\lib\\site-packages (from fastapi->gradio) (0.27.0)\n",
      "Requirement already satisfied: certifi in c:\\users\\esspe\\.conda\\envs\\testenv\\lib\\site-packages (from httpx->gradio) (2023.5.7)\n",
      "Requirement already satisfied: idna in c:\\users\\esspe\\.conda\\envs\\testenv\\lib\\site-packages (from httpx->gradio) (3.4)\n",
      "Requirement already satisfied: httpcore<0.18.0,>=0.15.0 in c:\\users\\esspe\\.conda\\envs\\testenv\\lib\\site-packages (from httpx->gradio) (0.17.2)\n",
      "Requirement already satisfied: sniffio in c:\\users\\esspe\\.conda\\envs\\testenv\\lib\\site-packages (from httpx->gradio) (1.2.0)\n",
      "Requirement already satisfied: fonttools>=4.22.0 in c:\\users\\esspe\\.conda\\envs\\testenv\\lib\\site-packages (from matplotlib->gradio) (4.25.0)\n",
      "Requirement already satisfied: cycler>=0.10 in c:\\users\\esspe\\.conda\\envs\\testenv\\lib\\site-packages (from matplotlib->gradio) (0.11.0)\n",
      "Requirement already satisfied: contourpy>=1.0.1 in c:\\users\\esspe\\.conda\\envs\\testenv\\lib\\site-packages (from matplotlib->gradio) (1.0.5)\n",
      "Requirement already satisfied: kiwisolver>=1.0.1 in c:\\users\\esspe\\.conda\\envs\\testenv\\lib\\site-packages (from matplotlib->gradio) (1.4.4)\n",
      "Requirement already satisfied: pyparsing>=2.3.1 in c:\\users\\esspe\\.conda\\envs\\testenv\\lib\\site-packages (from matplotlib->gradio) (3.0.9)\n",
      "Requirement already satisfied: urllib3<1.27,>=1.21.1 in c:\\users\\esspe\\.conda\\envs\\testenv\\lib\\site-packages (from requests->gradio) (1.26.15)\n",
      "Requirement already satisfied: colorama in c:\\users\\esspe\\.conda\\envs\\testenv\\lib\\site-packages (from click>=7.0->uvicorn>=0.14.0->gradio) (0.4.6)\n",
      "Requirement already satisfied: anyio<5.0,>=3.0 in c:\\users\\esspe\\.conda\\envs\\testenv\\lib\\site-packages (from httpcore<0.18.0,>=0.15.0->httpx->gradio) (3.5.0)\n",
      "Requirement already satisfied: pyrsistent!=0.17.0,!=0.17.1,!=0.17.2,>=0.14.0 in c:\\users\\esspe\\.conda\\envs\\testenv\\lib\\site-packages (from jsonschema>=3.0->altair>=4.2.0->gradio) (0.18.0)\n",
      "Requirement already satisfied: uc-micro-py in c:\\users\\esspe\\.conda\\envs\\testenv\\lib\\site-packages (from linkify-it-py<3,>=1->markdown-it-py[linkify]>=2.0.0->gradio) (1.0.2)\n",
      "Requirement already satisfied: six>=1.5 in c:\\users\\esspe\\.conda\\envs\\testenv\\lib\\site-packages (from python-dateutil>=2.8.1->pandas->gradio) (1.16.0)\n",
      "Note: you may need to restart the kernel to use updated packages.\n"
     ]
    }
   ],
   "source": [
    "pip install gradio"
   ]
  },
  {
   "cell_type": "code",
   "execution_count": 1,
   "id": "aca0691c",
   "metadata": {},
   "outputs": [
    {
     "name": "stderr",
     "output_type": "stream",
     "text": [
      "C:\\Users\\esspe\\.conda\\envs\\testenv\\lib\\site-packages\\tqdm\\auto.py:21: TqdmWarning: IProgress not found. Please update jupyter and ipywidgets. See https://ipywidgets.readthedocs.io/en/stable/user_install.html\n",
      "  from .autonotebook import tqdm as notebook_tqdm\n",
      "C:\\Users\\esspe\\.conda\\envs\\testenv\\lib\\site-packages\\gradio\\inputs.py:59: UserWarning: Usage of gradio.inputs is deprecated, and will not be supported in the future, please import your component from gradio.components\n",
      "  warnings.warn(\n",
      "C:\\Users\\esspe\\.conda\\envs\\testenv\\lib\\site-packages\\gradio\\inputs.py:62: UserWarning: `optional` parameter is deprecated, and it has no effect\n",
      "  super().__init__(value=default, label=label, optional=optional)\n",
      "C:\\Users\\esspe\\.conda\\envs\\testenv\\lib\\site-packages\\gradio\\outputs.py:22: UserWarning: Usage of gradio.outputs is deprecated, and will not be supported in the future, please import your components from gradio.components\n",
      "  warnings.warn(\n"
     ]
    },
    {
     "name": "stdout",
     "output_type": "stream",
     "text": [
      "Running on local URL:  http://127.0.0.1:7860\n",
      "\n",
      "To create a public link, set `share=True` in `launch()`.\n"
     ]
    },
    {
     "data": {
      "text/html": [
       "<div><iframe src=\"http://127.0.0.1:7860/\" width=\"100%\" height=\"500\" allow=\"autoplay; camera; microphone; clipboard-read; clipboard-write;\" frameborder=\"0\" allowfullscreen></iframe></div>"
      ],
      "text/plain": [
       "<IPython.core.display.HTML object>"
      ]
     },
     "metadata": {},
     "output_type": "display_data"
    },
    {
     "data": {
      "text/plain": []
     },
     "execution_count": 1,
     "metadata": {},
     "output_type": "execute_result"
    }
   ],
   "source": [
    "import xgboost as xgb\n",
    "import pandas as pd\n",
    "import gradio as gr\n",
    "import os\n",
    "from gradio import components\n",
    "\n",
    "# Check if the model file exists\n",
    "model_file = \"child_mort_data/xgb_child_mort.model\"\n",
    "if not os.path.isfile(model_file):\n",
    "    raise FileNotFoundError(f\"Model file '{model_file}' not found. Make sure the file exists.\")\n",
    "\n",
    "# Load the saved model\n",
    "loaded_model = xgb.XGBRegressor()\n",
    "loaded_model.load_model(model_file)\n",
    "\n",
    "# Define the prediction function\n",
    "def predict_child_mortality_rate(percentage_clean_water):\n",
    "    # Make a prediction using the loaded model\n",
    "    prediction = loaded_model.predict([[percentage_clean_water]])\n",
    "    return f\"Predicted Child Mortality Rate: {prediction[0]:.2f}\"\n",
    "\n",
    "# Create the Gradio interface\n",
    "input_value = gr.inputs.Number(label=\"Percentage of People Accessing Clean Water\")\n",
    "output_value = gr.outputs.Textbox(label='Predicted Child Mortality Rate')\n",
    "interface = gr.Interface(fn=predict_child_mortality_rate, inputs=input_value, outputs=output_value)\n",
    "\n",
    "# Launch the Gradio interface\n",
    "interface.launch()"
   ]
  },
  {
   "cell_type": "code",
   "execution_count": null,
   "id": "e28e18eb",
   "metadata": {},
   "outputs": [],
   "source": []
  }
 ],
 "metadata": {
  "kernelspec": {
   "display_name": "testenv",
   "language": "python",
   "name": "testenv"
  },
  "language_info": {
   "codemirror_mode": {
    "name": "ipython",
    "version": 3
   },
   "file_extension": ".py",
   "mimetype": "text/x-python",
   "name": "python",
   "nbconvert_exporter": "python",
   "pygments_lexer": "ipython3",
   "version": "3.10.11"
  }
 },
 "nbformat": 4,
 "nbformat_minor": 5
}
